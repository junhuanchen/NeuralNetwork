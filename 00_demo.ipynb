{
 "cells": [
  {
   "cell_type": "code",
   "execution_count": 2,
   "metadata": {},
   "outputs": [],
   "source": [
    "import numpy as np\n"
   ]
  },
  {
   "cell_type": "code",
   "execution_count": 8,
   "metadata": {},
   "outputs": [
    {
     "name": "stdout",
     "output_type": "stream",
     "text": [
      "7 (28, 28)\n"
     ]
    },
    {
     "data": {
      "image/png": "[encoded data removed]",
      "text/plain": [
       "<PIL.Image.Image image mode=L size=28x28 at 0x7F92CBE26700>"
      ]
     },
     "metadata": {},
     "output_type": "display_data"
    },
    {
     "name": "stdout",
     "output_type": "stream",
     "text": [
      "2 (28, 28)\n"
     ]
    },
    {
     "data": {
      "image/png": "[encoded data removed]",
      "text/plain": [
       "<PIL.Image.Image image mode=L size=28x28 at 0x7F92CBE26790>"
      ]
     },
     "metadata": {},
     "output_type": "display_data"
    },
    {
     "name": "stdout",
     "output_type": "stream",
     "text": [
      "1 (28, 28)\n"
     ]
    },
    {
     "data": {
      "image/png": "[encoded data removed]",
      "text/plain": [
       "<PIL.Image.Image image mode=L size=28x28 at 0x7F92CBE26700>"
      ]
     },
     "metadata": {},
     "output_type": "display_data"
    },
    {
     "name": "stdout",
     "output_type": "stream",
     "text": [
      "0 (28, 28)\n"
     ]
    },
    {
     "data": {
      "image/png": "[encoded data removed]",
      "text/plain": [
       "<PIL.Image.Image image mode=L size=28x28 at 0x7F92CBE26790>"
      ]
     },
     "metadata": {},
     "output_type": "display_data"
    },
    {
     "name": "stdout",
     "output_type": "stream",
     "text": [
      "4 (28, 28)\n"
     ]
    },
    {
     "data": {
      "image/png": "[encoded data removed]",
      "text/plain": [
       "<PIL.Image.Image image mode=L size=28x28 at 0x7F92CBE26700>"
      ]
     },
     "metadata": {},
     "output_type": "display_data"
    },
    {
     "name": "stdout",
     "output_type": "stream",
     "text": [
      "1 (28, 28)\n"
     ]
    },
    {
     "data": {
      "image/png": "[encoded data removed]",
      "text/plain": [
       "<PIL.Image.Image image mode=L size=28x28 at 0x7F92CBE26790>"
      ]
     },
     "metadata": {},
     "output_type": "display_data"
    },
    {
     "name": "stdout",
     "output_type": "stream",
     "text": [
      "4 (28, 28)\n"
     ]
    },
    {
     "data": {
      "image/png": "[encoded data removed]",
      "text/plain": [
       "<PIL.Image.Image image mode=L size=28x28 at 0x7F92CBE26700>"
      ]
     },
     "metadata": {},
     "output_type": "display_data"
    },
    {
     "name": "stdout",
     "output_type": "stream",
     "text": [
      "9 (28, 28)\n"
     ]
    },
    {
     "data": {
      "image/png": "[encoded data removed]",
      "text/plain": [
       "<PIL.Image.Image image mode=L size=28x28 at 0x7F92CBE26790>"
      ]
     },
     "metadata": {},
     "output_type": "display_data"
    },
    {
     "name": "stdout",
     "output_type": "stream",
     "text": [
      "5 (28, 28)\n"
     ]
    },
    {
     "data": {
      "image/png": "[encoded data removed]",
      "text/plain": [
       "<PIL.Image.Image image mode=L size=28x28 at 0x7F92CBE26700>"
      ]
     },
     "metadata": {},
     "output_type": "display_data"
    },
    {
     "name": "stdout",
     "output_type": "stream",
     "text": [
      "9 (28, 28)\n"
     ]
    },
    {
     "data": {
      "image/png": "[encoded data removed]",
      "text/plain": [
       "<PIL.Image.Image image mode=L size=28x28 at 0x7F92CBE26790>"
      ]
     },
     "metadata": {},
     "output_type": "display_data"
    }
   ],
   "source": [
    "test_df = np.loadtxt(\"mnist_test_10.csv\", delimiter=\",\", dtype=str)\n",
    "test_df\n",
    "\n",
    "for i in range(10):\n",
    "    test_obj = test_df[i][0]\n",
    "    test_img = test_df[i][1:].reshape(28, 28).astype(np.uint8)\n",
    "    print(test_obj, test_img.shape)\n",
    "    from PIL import Image\n",
    "    img = Image.fromarray(test_img)\n",
    "    display(img)\n"
   ]
  },
  {
   "cell_type": "code",
   "execution_count": 9,
   "metadata": {},
   "outputs": [
    {
     "data": {
      "text/plain": [
       "array([['5', '0', '0', ..., '0', '0', '0'],\n",
       "       ['0', '0', '0', ..., '0', '0', '0'],\n",
       "       ['4', '0', '0', ..., '0', '0', '0'],\n",
       "       ...,\n",
       "       ['8', '0', '0', ..., '0', '0', '0'],\n",
       "       ['3', '0', '0', ..., '0', '0', '0'],\n",
       "       ['1', '0', '0', ..., '0', '0', '0']], dtype='<U3')"
      ]
     },
     "execution_count": 9,
     "metadata": {},
     "output_type": "execute_result"
    }
   ],
   "source": [
    "train_df = np.loadtxt(\"mnist_train_100.csv\", delimiter=\",\", dtype=str)\n",
    "train_df\n"
   ]
  },
  {
   "cell_type": "code",
   "execution_count": 10,
   "metadata": {},
   "outputs": [
    {
     "name": "stdout",
     "output_type": "stream",
     "text": [
      "NeuralNetwork: \n",
      "input_nodes = 3, hidden_nodes = 3, \n",
      "outputnodes = 3, learningrate = 0.5\n"
     ]
    }
   ],
   "source": [
    "def sigmoid(x):\n",
    "    return 1/(1+np.exp(-x))\n",
    "\n",
    "\n",
    "def grad(x):\n",
    "    return x*(1-x)\n",
    "\n",
    "\n",
    "class NeuralNetwork:\n",
    "    \"\"\"\n",
    "    三层全连接前馈神经网络\n",
    "    \"\"\"\n",
    "\n",
    "    def __init__(self, inputnodes, hiddennodes, outputnodes, learningrate, active_function=sigmoid, gradient=grad, lambda_=0.1):\n",
    "        \"\"\"\n",
    "\n",
    "        :param inputnodes: 输入层结点数\n",
    "        :param hiddennodes: 隐藏层节点数\n",
    "        :param outputnodes: 输出层节点数\n",
    "        :param learningrate: 学习率\n",
    "        :param active_function: 激活函数\n",
    "        :param gradient: 激活函数的导数\n",
    "        :param lambda_: L2正则化系数\n",
    "        \"\"\"\n",
    "        self.inputnodes = inputnodes\n",
    "        self.hiddennodes = hiddennodes\n",
    "        self.outputnodes = outputnodes\n",
    "        self.learningrate = learningrate\n",
    "        self.active_function = active_function\n",
    "        self.gradient = gradient\n",
    "        self.lambda_ = lambda_\n",
    "\n",
    "        # 权值矩阵\n",
    "        self.weights_i_h = np.random.rand(\n",
    "            self.hiddennodes, self.inputnodes) - 0.5\n",
    "        self.weights_h_o = np.random.rand(\n",
    "            self.outputnodes, self.hiddennodes) - 0.5\n",
    "\n",
    "    def train_sgd(self, x, y):\n",
    "        \"\"\"梯度下降训练\"\"\"\n",
    "        train_x = np.array(x).reshape(-1, 1)\n",
    "        target = np.zeros((self.outputnodes, 1)) + 0.01\n",
    "        target[y, 0] = 0.99\n",
    "\n",
    "        hiddeninputs = np.dot(self.weights_i_h, train_x)\n",
    "        hiddenoutputs = self.active_function(hiddeninputs)\n",
    "\n",
    "        outputinputs = np.dot(self.weights_h_o, hiddenoutputs)\n",
    "        final_outputs = self.active_function(outputinputs)\n",
    "\n",
    "        error = target - final_outputs\n",
    "\n",
    "        hidden_error = np.dot(self.weights_h_o.transpose(), error)\n",
    "\n",
    "        self.weights_h_o += self.learningrate * error * \\\n",
    "            np.dot(self.gradient(final_outputs), hiddenoutputs.transpose())\n",
    "\n",
    "        self.weights_i_h += self.learningrate * hidden_error * \\\n",
    "            np.dot(self.gradient(hiddenoutputs), train_x.transpose())\n",
    "\n",
    "    def fit(self, train_x, targets):\n",
    "        train_x = np.array(train_x)\n",
    "        for i in range(train_x.shape[0]):\n",
    "            self.train_sgd(train_x[i], targets[i])\n",
    "\n",
    "    def query(self, inputs, debug=False):\n",
    "        \"\"\"单个值预测\"\"\"\n",
    "        inputs = np.array(inputs).reshape(-1, 1)\n",
    "        hidden_input = np.dot(self.weights_i_h, inputs)\n",
    "        hidden_output = self.active_function(hidden_input)\n",
    "\n",
    "        output_input = np.dot(self.weights_h_o, hidden_output)\n",
    "\n",
    "        final_output = self.active_function(output_input)\n",
    "\n",
    "        if debug:\n",
    "            print('predict: ', final_output)\n",
    "\n",
    "        return np.argmax(final_output)\n",
    "\n",
    "    def predict(self, inputs):\n",
    "        \"\"\"批量预测\"\"\"\n",
    "        res = []\n",
    "        for x in inputs:\n",
    "            res.append(self.query(x))\n",
    "        return res\n",
    "\n",
    "    def __str__(self):\n",
    "        return \"NeuralNetwork: \\ninput_nodes = {0}, hidden_nodes = {1}, \\noutputnodes = {2}, learningrate = {3}\".format(\n",
    "            self.inputnodes, self.hiddennodes, self.outputnodes, self.learningrate\n",
    "        )\n",
    "\n",
    "\n",
    "if __name__ == '__main__':\n",
    "    nn = NeuralNetwork(3, 3, 3, 0.5)\n",
    "    print(nn)\n"
   ]
  },
  {
   "cell_type": "code",
   "execution_count": 11,
   "metadata": {},
   "outputs": [
    {
     "name": "stdout",
     "output_type": "stream",
     "text": [
      "(100, 785)\n",
      "(10, 785)\n",
      "准确度60.00%\n"
     ]
    }
   ],
   "source": [
    "# 用测试数据测试\n",
    "def accuracy(y_true, y_pred):\n",
    "    \"\"\"准确度\"\"\"\n",
    "    y_true = np.array(y_true)\n",
    "    y_pred = np.array(y_pred)\n",
    "    return sum(y_true == y_pred)/y_true.shape[0]\n",
    "\n",
    "# 用全部数据进行训练\n",
    "\n",
    "\n",
    "def get_data():\n",
    "    # train_df = np.loadtxt(\"mnist_train.csv\", delimiter=\",\", dtype=str)\n",
    "    # test_df = np.loadtxt(\"mnist_test.csv\", delimiter=\",\", dtype=str)\n",
    "    global train_df, test_df\n",
    "    print(train_df.shape)\n",
    "    print(test_df.shape)\n",
    "\n",
    "    train_data = train_df.astype('int')\n",
    "    train_x = train_data[:, 1:]\n",
    "    train_y = train_data[:, 0]\n",
    "    train_x = train_x / 255 * 0.99 + 0.01\n",
    "\n",
    "    test_data = test_df.astype('int')\n",
    "    test_x = test_data[:, 1:]\n",
    "    test_y = test_data[:, 0]\n",
    "    test_x = test_x / 255 * 0.99 + 0.01\n",
    "\n",
    "    return train_x, train_y, test_x, test_y\n",
    "\n",
    "\n",
    "train_x, train_y, test_x, test_y = get_data()\n",
    "\n",
    "NN = NeuralNetwork(784, 100, 10, 0.3)\n",
    "NN.fit(train_x, train_y)\n",
    "y_pred = NN.predict(test_x)\n",
    "print(\"准确度%.2f%%\" % (100*accuracy(test_y, y_pred)))\n"
   ]
  },
  {
   "cell_type": "code",
   "execution_count": 12,
   "metadata": {},
   "outputs": [
    {
     "name": "stdout",
     "output_type": "stream",
     "text": [
      "隐藏层节点数512,学习率0.100000,准确度60.00%\n",
      "隐藏层节点数512,学习率0.200000,准确度60.00%\n",
      "隐藏层节点数512,学习率0.300000,准确度60.00%\n",
      "隐藏层节点数256,学习率0.100000,准确度60.00%\n",
      "隐藏层节点数256,学习率0.200000,准确度50.00%\n",
      "隐藏层节点数256,学习率0.300000,准确度60.00%\n",
      "隐藏层节点数128,学习率0.100000,准确度70.00%\n",
      "隐藏层节点数128,学习率0.200000,准确度50.00%\n",
      "隐藏层节点数128,学习率0.300000,准确度50.00%\n"
     ]
    }
   ],
   "source": [
    "hiddennodes = [512, 256, 128]\n",
    "lrs = [0.1, 0.2, 0.3]\n",
    "for node in hiddennodes:\n",
    "    for lr in lrs:\n",
    "        NN = NeuralNetwork(784, node, 10, lr)\n",
    "        NN.fit(train_x, train_y)\n",
    "        y_pred = NN.predict(test_x)\n",
    "        print(\"隐藏层节点数%d,学习率%f,准确度%.2f%%\" %\n",
    "              (node, lr, 100*accuracy(test_y, y_pred)))\n"
   ]
  },
  {
   "cell_type": "code",
   "execution_count": 14,
   "metadata": {},
   "outputs": [
    {
     "name": "stdout",
     "output_type": "stream",
     "text": [
      "第1次训练,准确度60.00%\n",
      "第2次训练,准确度60.00%\n",
      "第3次训练,准确度60.00%\n",
      "第4次训练,准确度70.00%\n",
      "第5次训练,准确度70.00%\n",
      "第6次训练,准确度70.00%\n",
      "第7次训练,准确度70.00%\n",
      "第8次训练,准确度70.00%\n",
      "第9次训练,准确度60.00%\n",
      "第10次训练,准确度60.00%\n",
      "第11次训练,准确度60.00%\n",
      "第12次训练,准确度60.00%\n",
      "第13次训练,准确度60.00%\n",
      "第14次训练,准确度60.00%\n",
      "第15次训练,准确度60.00%\n",
      "第16次训练,准确度60.00%\n",
      "第17次训练,准确度60.00%\n",
      "第18次训练,准确度60.00%\n",
      "第19次训练,准确度60.00%\n",
      "第20次训练,准确度60.00%\n"
     ]
    }
   ],
   "source": [
    "import pickle\n",
    "# 最佳参数\n",
    "# 隐藏层节点数128,学习率0.100000,准确度70.00%\n",
    "NN = NeuralNetwork(784, 128, 10, 0.1)\n",
    "\n",
    "# 训练20次，每3次训练下降一次学习率\n",
    "for e in range(1, 21):\n",
    "    if e % 3 == 0:\n",
    "        NN.learningrate /= 2\n",
    "    NN.fit(train_x, train_y)\n",
    "    y_pred = NN.predict(test_x)\n",
    "    print(\"第%d次训练,准确度%.2f%%\" % (e, 100*accuracy(test_y, y_pred)))\n",
    "    with open('NN{}.pkl'.format(e), 'wb') as f:  # 保存模型\n",
    "        pickle.dump(pickle.dumps(NN), f)\n"
   ]
  },
  {
   "cell_type": "code",
   "execution_count": 15,
   "metadata": {},
   "outputs": [
    {
     "data": {
      "text/plain": [
       "<__main__.NeuralNetwork at 0x7f9297480550>"
      ]
     },
     "execution_count": 15,
     "metadata": {},
     "output_type": "execute_result"
    }
   ],
   "source": [
    "# 最佳模型，载入最佳模型\n",
    "with open('NN8.pkl', 'rb') as f:\n",
    "    b_data = pickle.load(f)\n",
    "    net_model = pickle.loads(b_data)\n",
    "net_model\n"
   ]
  },
  {
   "cell_type": "code",
   "execution_count": 16,
   "metadata": {},
   "outputs": [
    {
     "name": "stdout",
     "output_type": "stream",
     "text": [
      "NeuralNetwork: \n",
      "input_nodes = 784, hidden_nodes = 128, \n",
      "outputnodes = 10, learningrate = 0.025\n"
     ]
    }
   ],
   "source": [
    "print(net_model)\n"
   ]
  },
  {
   "cell_type": "code",
   "execution_count": 17,
   "metadata": {},
   "outputs": [
    {
     "name": "stdout",
     "output_type": "stream",
     "text": [
      "准确度70.00%\n"
     ]
    }
   ],
   "source": [
    "# 使用最佳模型预测\n",
    "y_pred = net_model.predict(test_x)\n",
    "print(\"准确度%.2f%%\" % (100*accuracy(test_y, y_pred)))\n"
   ]
  },
  {
   "cell_type": "code",
   "execution_count": 18,
   "metadata": {},
   "outputs": [
    {
     "data": {
      "image/png": "[encoded data removed]",
      "text/plain": [
       "<PIL.Image.Image image mode=L size=28x28 at 0x7F92CBE26A00>"
      ]
     },
     "metadata": {},
     "output_type": "display_data"
    },
    {
     "name": "stdout",
     "output_type": "stream",
     "text": [
      "(1, 784)\n",
      "6\n"
     ]
    },
    {
     "data": {
      "image/png": "[encoded data removed]",
      "text/plain": [
       "<PIL.Image.Image image mode=L size=28x28 at 0x7F92CBE26A00>"
      ]
     },
     "metadata": {},
     "output_type": "display_data"
    },
    {
     "name": "stdout",
     "output_type": "stream",
     "text": [
      "(1, 784)\n",
      "1\n"
     ]
    },
    {
     "data": {
      "image/png": "[encoded data removed]",
      "text/plain": [
       "<PIL.Image.Image image mode=L size=28x28 at 0x7F92CBE26A00>"
      ]
     },
     "metadata": {},
     "output_type": "display_data"
    },
    {
     "name": "stdout",
     "output_type": "stream",
     "text": [
      "(1, 784)\n",
      "2\n"
     ]
    },
    {
     "data": {
      "image/png": "[encoded data removed]",
      "text/plain": [
       "<PIL.Image.Image image mode=L size=28x28 at 0x7F92CBE26A00>"
      ]
     },
     "metadata": {},
     "output_type": "display_data"
    },
    {
     "name": "stdout",
     "output_type": "stream",
     "text": [
      "(1, 784)\n",
      "3\n"
     ]
    },
    {
     "data": {
      "image/png": "[encoded data removed]",
      "text/plain": [
       "<PIL.Image.Image image mode=L size=28x28 at 0x7F92CBE26A00>"
      ]
     },
     "metadata": {},
     "output_type": "display_data"
    },
    {
     "name": "stdout",
     "output_type": "stream",
     "text": [
      "(1, 784)\n",
      "3\n"
     ]
    },
    {
     "data": {
      "image/png": "[encoded data removed]",
      "text/plain": [
       "<PIL.Image.Image image mode=L size=28x28 at 0x7F92CBE26A00>"
      ]
     },
     "metadata": {},
     "output_type": "display_data"
    },
    {
     "name": "stdout",
     "output_type": "stream",
     "text": [
      "(1, 784)\n",
      "6\n"
     ]
    },
    {
     "data": {
      "image/png": "[encoded data removed]",
      "text/plain": [
       "<PIL.Image.Image image mode=L size=28x28 at 0x7F92CBE26A00>"
      ]
     },
     "metadata": {},
     "output_type": "display_data"
    },
    {
     "name": "stdout",
     "output_type": "stream",
     "text": [
      "(1, 784)\n",
      "6\n"
     ]
    },
    {
     "data": {
      "image/png": "[encoded data removed]",
      "text/plain": [
       "<PIL.Image.Image image mode=L size=28x28 at 0x7F92CBE26A00>"
      ]
     },
     "metadata": {},
     "output_type": "display_data"
    },
    {
     "name": "stdout",
     "output_type": "stream",
     "text": [
      "(1, 784)\n",
      "2\n"
     ]
    },
    {
     "data": {
      "image/png": "[encoded data removed]",
      "text/plain": [
       "<PIL.Image.Image image mode=L size=28x28 at 0x7F92CBE26A00>"
      ]
     },
     "metadata": {},
     "output_type": "display_data"
    },
    {
     "name": "stdout",
     "output_type": "stream",
     "text": [
      "(1, 784)\n",
      "6\n"
     ]
    },
    {
     "data": {
      "image/png": "[encoded data removed]",
      "text/plain": [
       "<PIL.Image.Image image mode=L size=28x28 at 0x7F92CBE26A00>"
      ]
     },
     "metadata": {},
     "output_type": "display_data"
    },
    {
     "name": "stdout",
     "output_type": "stream",
     "text": [
      "(1, 784)\n",
      "4\n"
     ]
    }
   ],
   "source": [
    "# 使用 PIL 生成一张 28*28 的图，并绘制数字，转成 784*1 的向量，用最佳模型预测\n",
    "from PIL import Image, ImageDraw, ImageFont\n",
    "import numpy as np\n",
    "\n",
    "for i in range(10):\n",
    "    img = Image.new('L', (28, 28), 0)\n",
    "    font = ImageFont.truetype('./resc/sans.ttf', 22)\n",
    "    img_draw = ImageDraw.Draw(img)\n",
    "    img_draw.text((7, 0), str(i), fill=255, font=font)\n",
    "\n",
    "    display(img)\n",
    "\n",
    "    img = np.array(img).reshape(1, 784).astype('int')\n",
    "    img = img / 255 * 0.99 + 0.01\n",
    "    print(img.shape)\n",
    "\n",
    "    tmp = net_model.query(img)\n",
    "    print(tmp)\n"
   ]
  },
  {
   "cell_type": "code",
   "execution_count": null,
   "metadata": {},
   "outputs": [],
   "source": []
  }
 ],
 "metadata": {
  "kernelspec": {
   "display_name": "Python 3",
   "language": "python",
   "name": "python3"
  },
  "language_info": {
   "codemirror_mode": {
    "name": "ipython",
    "version": 3
   },
   "file_extension": ".py",
   "mimetype": "text/x-python",
   "name": "python",
   "nbconvert_exporter": "python",
   "pygments_lexer": "ipython3",
   "version": "3.8.10"
  }
 },
 "nbformat": 4,
 "nbformat_minor": 4
}
